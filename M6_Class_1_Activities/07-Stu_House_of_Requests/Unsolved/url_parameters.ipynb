{
 "cells": [
  {
   "cell_type": "markdown",
   "metadata": {},
   "source": [
    "# House of Requests"
   ]
  },
  {
   "cell_type": "markdown",
   "metadata": {},
   "source": [
    "Use the `Deck of Cards` API to play a game of BlackJack with a partner. Parameterize the `Deck of Cards` API `request urls` in order to create the deck of cards, as well as draw cards for the game."
   ]
  },
  {
   "cell_type": "code",
   "execution_count": 95,
   "metadata": {},
   "outputs": [],
   "source": [
    "import requests\n",
    "\n",
    "# Function to calculate points\n",
    "def calculate_points(cards):\n",
    "    points = 0\n",
    "    aces = 0\n",
    "    for card in cards:\n",
    "        if card['value'] in [\"KING\", \"QUEEN\", \"JACK\"]:\n",
    "            points += 10\n",
    "        elif card['value'] == \"ACE\":\n",
    "            points += 11\n",
    "            aces += 1\n",
    "        else:\n",
    "            points += int(card['value'])\n",
    "    # Adjust for Aces\n",
    "    while points > 21 and aces:\n",
    "        points -= 10\n",
    "        aces -= 1\n",
    "    return points\n",
    "\n",
    "# Function to decide whether to draw another card\n",
    "def decide_to_draw(points):\n",
    "    if points < 17:\n",
    "        return \"draw\"\n",
    "    elif points > 21:\n",
    "        return \"lose\"\n",
    "    elif points == 21:\n",
    "        return \"win\"\n",
    "    else:\n",
    "        return \"hold\"\n"
   ]
  },
  {
   "cell_type": "markdown",
   "metadata": {},
   "source": [
    "## Prep for the Game"
   ]
  },
  {
   "cell_type": "code",
   "execution_count": 96,
   "metadata": {},
   "outputs": [],
   "source": [
    "# Declare request url to create deck id\n",
    "create_shuffle_url = \"https://deckofcardsapi.com/api/deck/new/shuffle/?deck_count=6\"\n",
    "\n",
    "# Execute create deck url\n",
    "response = requests.get(create_shuffle_url)"
   ]
  },
  {
   "cell_type": "markdown",
   "metadata": {},
   "source": [
    "### Parse JSON and extract `deck_id`"
   ]
  },
  {
   "cell_type": "code",
   "execution_count": 97,
   "metadata": {},
   "outputs": [
    {
     "name": "stdout",
     "output_type": "stream",
     "text": [
      "i9jacr1lxpdv\n"
     ]
    }
   ],
   "source": [
    "create_shuffle_url = \"https://deckofcardsapi.com/api/deck/new/shuffle/?deck_count=1\"\n",
    "response = requests.get(create_shuffle_url).json()\n",
    "deck_id = response['deck_id']\n",
    "print(deck_id)\n"
   ]
  },
  {
   "cell_type": "markdown",
   "metadata": {},
   "source": [
    "### Declare request urls to draw cards and shuffle deck"
   ]
  },
  {
   "cell_type": "code",
   "execution_count": 98,
   "metadata": {},
   "outputs": [],
   "source": [
    "# Declare draw_cards_url and shuffle_deck_url\n",
    "# Use string interpolation to incorporate the deck_id\n",
    "shuffle_deck_url = f\"https://deckofcardsapi.com/api/deck/{deck_id}/shuffle/\"\n",
    "draw_cards_url = f\"https://deckofcardsapi.com/api/deck/{deck_id}/draw/?count=2\"\n"
   ]
  },
  {
   "cell_type": "markdown",
   "metadata": {},
   "source": [
    "## Player 1 Turn"
   ]
  },
  {
   "cell_type": "markdown",
   "metadata": {},
   "source": [
    "### Draw two cards"
   ]
  },
  {
   "cell_type": "code",
   "execution_count": 99,
   "metadata": {},
   "outputs": [],
   "source": [
    "# Draw two cards\n",
    "player_1_cards = requests.get(draw_cards_url).json()['cards']\n"
   ]
  },
  {
   "cell_type": "markdown",
   "metadata": {},
   "source": [
    "### Parse and extract `value` and `suit` elements from JSON output, for each card"
   ]
  },
  {
   "cell_type": "code",
   "execution_count": 100,
   "metadata": {},
   "outputs": [
    {
     "name": "stdout",
     "output_type": "stream",
     "text": [
      "Player's Initial Cards: [('6', 'DIAMONDS'), ('4', 'SPADES')]\n"
     ]
    }
   ],
   "source": [
    "# Select returned card's value and suit (i.e. 3 of clubs)\n",
    "\n",
    "\n",
    "# Print player cards\n",
    "print(\"Player's Initial Cards:\", [(card['value'], card['suit']) for card in player_1_cards])\n"
   ]
  },
  {
   "cell_type": "markdown",
   "metadata": {},
   "source": [
    "### Decide whether to draw another card or skip to next player turn"
   ]
  },
  {
   "cell_type": "code",
   "execution_count": 101,
   "metadata": {},
   "outputs": [
    {
     "name": "stdout",
     "output_type": "stream",
     "text": [
      "Player's Points: 10 | Decision: draw\n",
      "Player drew: ('3', 'SPADES')\n",
      "Player's New Points: 13\n"
     ]
    }
   ],
   "source": [
    "player_points = calculate_points(player_1_cards)\n",
    "decision = decide_to_draw(player_points)\n",
    "print(\"Player's Points:\", player_points, \"| Decision:\", decision)\n",
    "\n",
    "if decision == \"draw\":\n",
    "    draw_one_more_card_url = f\"https://deckofcardsapi.com/api/deck/{deck_id}/draw/?count=1\"\n",
    "    new_card = requests.get(draw_one_more_card_url).json()['cards'][0]\n",
    "    player_1_cards.append(new_card)\n",
    "    player_points = calculate_points(player_1_cards)\n",
    "    print(\"Player drew:\", (new_card['value'], new_card['suit']))\n",
    "    print(\"Player's New Points:\", player_points)\n"
   ]
  },
  {
   "cell_type": "code",
   "execution_count": 102,
   "metadata": {},
   "outputs": [
    {
     "name": "stdout",
     "output_type": "stream",
     "text": [
      "Player holds at 13\n"
     ]
    }
   ],
   "source": [
    "if player_points > 21:\n",
    "    print(\"Player busts!\")\n",
    "elif player_points == 21:\n",
    "    print(\"Player hits 21!\")\n",
    "else:\n",
    "    print(\"Player holds at\", player_points)"
   ]
  },
  {
   "cell_type": "markdown",
   "metadata": {},
   "source": [
    "## Player 2 / Dealer Turn"
   ]
  },
  {
   "cell_type": "code",
   "execution_count": 103,
   "metadata": {},
   "outputs": [
    {
     "name": "stdout",
     "output_type": "stream",
     "text": [
      "Dealer's Initial Cards: [('ACE', 'SPADES'), ('QUEEN', 'DIAMONDS')]\n"
     ]
    }
   ],
   "source": [
    "# Draw 2 cards for the dealer\n",
    "draw_cards_url = f\"https://deckofcardsapi.com/api/deck/{deck_id}/draw/?count=2\"\n",
    "dealer_cards = requests.get(draw_cards_url).json()['cards']\n",
    "print(\"Dealer's Initial Cards:\", [(card['value'], card['suit']) for card in dealer_cards])\n"
   ]
  },
  {
   "cell_type": "code",
   "execution_count": 104,
   "metadata": {},
   "outputs": [
    {
     "name": "stdout",
     "output_type": "stream",
     "text": [
      "Dealer's Points: 21\n"
     ]
    }
   ],
   "source": [
    "# Calculate dealer points and make decision based on player's outcome\n",
    "dealer_points = calculate_points(dealer_cards)\n",
    "\n",
    "# If player busts, dealer does not need to draw more cards\n",
    "if player_points > 21:\n",
    "    print(\"Player has busted. Dealer wins by default.\")\n",
    "else:\n",
    "    print(\"Dealer's Points:\", dealer_points)\n",
    "    while dealer_points < 17:\n",
    "        # Dealer draws if points are less than 17\n",
    "        draw_one_more_card_url = f\"https://deckofcardsapi.com/api/deck/{deck_id}/draw/?count=1\"\n",
    "        new_card = requests.get(draw_one_more_card_url).json()['cards'][0]\n",
    "        dealer_cards.append(new_card)\n",
    "        dealer_points = calculate_points(dealer_cards)\n",
    "        print(\"Dealer drew:\", (new_card['value'], new_card['suit']))\n",
    "        print(\"Dealer's New Points:\", dealer_points)\n"
   ]
  },
  {
   "cell_type": "code",
   "execution_count": 105,
   "metadata": {},
   "outputs": [
    {
     "name": "stdout",
     "output_type": "stream",
     "text": [
      "House wins with 21 points.\n"
     ]
    }
   ],
   "source": [
    "# Determine the outcome of the game\n",
    "if player_points > 21:\n",
    "    print(\"Player busts! House wins!\")\n",
    "elif dealer_points > 21:\n",
    "    print(\"Dealer busts! Player wins!\")\n",
    "elif dealer_points > player_points:\n",
    "    print(\"House wins with\", dealer_points, \"points.\")\n",
    "elif dealer_points < player_points:\n",
    "    print(\"Player wins with\", player_points, \"points.\")\n",
    "else:\n",
    "    print(\"It's a tie! Both player and dealer have\", dealer_points, \"points.\")\n"
   ]
  }
 ],
 "metadata": {
  "kernelspec": {
   "display_name": "Python 3 (ipykernel)",
   "language": "python",
   "name": "python3"
  },
  "language_info": {
   "codemirror_mode": {
    "name": "ipython",
    "version": 3
   },
   "file_extension": ".py",
   "mimetype": "text/x-python",
   "name": "python",
   "nbconvert_exporter": "python",
   "pygments_lexer": "ipython3",
   "version": "3.10.13"
  }
 },
 "nbformat": 4,
 "nbformat_minor": 4
}
