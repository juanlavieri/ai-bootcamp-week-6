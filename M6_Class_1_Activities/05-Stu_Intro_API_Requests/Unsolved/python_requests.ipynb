{
 "cells": [
  {
   "cell_type": "markdown",
   "metadata": {},
   "source": [
    "### Import `requests` and `json` libraries"
   ]
  },
  {
   "cell_type": "code",
   "execution_count": 1,
   "metadata": {},
   "outputs": [],
   "source": [
    "import requests\n",
    "import json"
   ]
  },
  {
   "cell_type": "markdown",
   "metadata": {},
   "source": [
    "### Declare `request_urls`"
   ]
  },
  {
   "cell_type": "code",
   "execution_count": 2,
   "metadata": {},
   "outputs": [],
   "source": [
    "# Declare \"url\" variables\n",
    "star_wars_url = \"https://swapi.dev/api/people/\"\n",
    "who_url = \"https://ghoapi.azureedge.net/api/HWF_0004\"\n",
    "library_url = \"https://openlibrary.org/authors/OL2864471A/works.json\"\n",
    "exchange_rate_url = \"https://open.er-api.com/v6/latest/CAD\"\n",
    "us_treasury_url = \"https://api.usaspending.gov//api/v2/references/agency/456/\"\n",
    "us_gdp_data_url = \"http://api.worldbank.org/v2/country/us?format=json\""
   ]
  },
  {
   "cell_type": "markdown",
   "metadata": {},
   "source": [
    "### Execute `GET` request using `requests` library"
   ]
  },
  {
   "cell_type": "code",
   "execution_count": 3,
   "metadata": {},
   "outputs": [],
   "source": [
    "# Execute \"GET\" request with url\n",
    "response_data = requests.get('https://swapi.dev/api/people/')\n"
   ]
  },
  {
   "cell_type": "markdown",
   "metadata": {},
   "source": [
    "### Get response `status code`"
   ]
  },
  {
   "cell_type": "code",
   "execution_count": 4,
   "metadata": {},
   "outputs": [
    {
     "name": "stdout",
     "output_type": "stream",
     "text": [
      "Status Code: 200\n"
     ]
    }
   ],
   "source": [
    "# Print \"response_data\" variable\n",
    "print(\"Status Code:\", response_data.status_code)\n"
   ]
  },
  {
   "cell_type": "markdown",
   "metadata": {},
   "source": [
    "### Extract response `content`"
   ]
  },
  {
   "cell_type": "code",
   "execution_count": 5,
   "metadata": {},
   "outputs": [
    {
     "name": "stdout",
     "output_type": "stream",
     "text": [
      "b'{\"count\":82,\"next\":\"https://swapi.dev/api/people/?page=2\",\"previous\":null,\"results\":[{\"name\":\"Luke Skywalker\",\"height\":\"172\",\"mass\":\"77\",\"hair_color\":\"blond\",\"skin_color\":\"fair\",\"eye_color\":\"blue\",\"birth_year\":\"19BBY\",\"gender\":\"male\",\"homeworld\":\"https://swapi.dev/api/planets/1/\",\"films\":[\"https://swapi.dev/api/films/1/\",\"https://swapi.dev/api/films/2/\",\"https://swapi.dev/api/films/3/\",\"https://swapi.dev/api/films/6/\"],\"species\":[],\"vehicles\":[\"https://swapi.dev/api/vehicles/14/\",\"https://swapi.dev/api/vehicles/30/\"],\"starships\":[\"https://swapi.dev/api/starships/12/\",\"https://swapi.dev/api/starships/22/\"],\"created\":\"2014-12-09T13:50:51.644000Z\",\"edited\":\"2014-12-20T21:17:56.891000Z\",\"url\":\"https://swapi.dev/api/people/1/\"},{\"name\":\"C-3PO\",\"height\":\"167\",\"mass\":\"75\",\"hair_color\":\"n/a\",\"skin_color\":\"gold\",\"eye_color\":\"yellow\",\"birth_year\":\"112BBY\",\"gender\":\"n/a\",\"homeworld\":\"https://swapi.dev/api/planets/1/\",\"films\":[\"https://swapi.dev/api/films/1/\",\"https://swapi.dev/api/films/2/\",\"https://swapi.dev/api/films/3/\",\"https://swapi.dev/api/films/4/\",\"https://swapi.dev/api/films/5/\",\"https://swapi.dev/api/films/6/\"],\"species\":[\"https://swapi.dev/api/species/2/\"],\"vehicles\":[],\"starships\":[],\"created\":\"2014-12-10T15:10:51.357000Z\",\"edited\":\"2014-12-20T21:17:50.309000Z\",\"url\":\"https://swapi.dev/api/people/2/\"},{\"name\":\"R2-D2\",\"height\":\"96\",\"mass\":\"32\",\"hair_color\":\"n/a\",\"skin_color\":\"white, blue\",\"eye_color\":\"red\",\"birth_year\":\"33BBY\",\"gender\":\"n/a\",\"homeworld\":\"https://swapi.dev/api/planets/8/\",\"films\":[\"https://swapi.dev/api/films/1/\",\"https://swapi.dev/api/films/2/\",\"https://swapi.dev/api/films/3/\",\"https://swapi.dev/api/films/4/\",\"https://swapi.dev/api/films/5/\",\"https://swapi.dev/api/films/6/\"],\"species\":[\"https://swapi.dev/api/species/2/\"],\"vehicles\":[],\"starships\":[],\"created\":\"2014-12-10T15:11:50.376000Z\",\"edited\":\"2014-12-20T21:17:50.311000Z\",\"url\":\"https://swapi.dev/api/people/3/\"},{\"name\":\"Darth Vader\",\"height\":\"202\",\"mass\":\"136\",\"hair_color\":\"none\",\"skin_color\":\"white\",\"eye_color\":\"yellow\",\"birth_year\":\"41.9BBY\",\"gender\":\"male\",\"homeworld\":\"https://swapi.dev/api/planets/1/\",\"films\":[\"https://swapi.dev/api/films/1/\",\"https://swapi.dev/api/films/2/\",\"https://swapi.dev/api/films/3/\",\"https://swapi.dev/api/films/6/\"],\"species\":[],\"vehicles\":[],\"starships\":[\"https://swapi.dev/api/starships/13/\"],\"created\":\"2014-12-10T15:18:20.704000Z\",\"edited\":\"2014-12-20T21:17:50.313000Z\",\"url\":\"https://swapi.dev/api/people/4/\"},{\"name\":\"Leia Organa\",\"height\":\"150\",\"mass\":\"49\",\"hair_color\":\"brown\",\"skin_color\":\"light\",\"eye_color\":\"brown\",\"birth_year\":\"19BBY\",\"gender\":\"female\",\"homeworld\":\"https://swapi.dev/api/planets/2/\",\"films\":[\"https://swapi.dev/api/films/1/\",\"https://swapi.dev/api/films/2/\",\"https://swapi.dev/api/films/3/\",\"https://swapi.dev/api/films/6/\"],\"species\":[],\"vehicles\":[\"https://swapi.dev/api/vehicles/30/\"],\"starships\":[],\"created\":\"2014-12-10T15:20:09.791000Z\",\"edited\":\"2014-12-20T21:17:50.315000Z\",\"url\":\"https://swapi.dev/api/people/5/\"},{\"name\":\"Owen Lars\",\"height\":\"178\",\"mass\":\"120\",\"hair_color\":\"brown, grey\",\"skin_color\":\"light\",\"eye_color\":\"blue\",\"birth_year\":\"52BBY\",\"gender\":\"male\",\"homeworld\":\"https://swapi.dev/api/planets/1/\",\"films\":[\"https://swapi.dev/api/films/1/\",\"https://swapi.dev/api/films/5/\",\"https://swapi.dev/api/films/6/\"],\"species\":[],\"vehicles\":[],\"starships\":[],\"created\":\"2014-12-10T15:52:14.024000Z\",\"edited\":\"2014-12-20T21:17:50.317000Z\",\"url\":\"https://swapi.dev/api/people/6/\"},{\"name\":\"Beru Whitesun lars\",\"height\":\"165\",\"mass\":\"75\",\"hair_color\":\"brown\",\"skin_color\":\"light\",\"eye_color\":\"blue\",\"birth_year\":\"47BBY\",\"gender\":\"female\",\"homeworld\":\"https://swapi.dev/api/planets/1/\",\"films\":[\"https://swapi.dev/api/films/1/\",\"https://swapi.dev/api/films/5/\",\"https://swapi.dev/api/films/6/\"],\"species\":[],\"vehicles\":[],\"starships\":[],\"created\":\"2014-12-10T15:53:41.121000Z\",\"edited\":\"2014-12-20T21:17:50.319000Z\",\"url\":\"https://swapi.dev/api/people/7/\"},{\"name\":\"R5-D4\",\"height\":\"97\",\"mass\":\"32\",\"hair_color\":\"n/a\",\"skin_color\":\"white, red\",\"eye_color\":\"red\",\"birth_year\":\"unknown\",\"gender\":\"n/a\",\"homeworld\":\"https://swapi.dev/api/planets/1/\",\"films\":[\"https://swapi.dev/api/films/1/\"],\"species\":[\"https://swapi.dev/api/species/2/\"],\"vehicles\":[],\"starships\":[],\"created\":\"2014-12-10T15:57:50.959000Z\",\"edited\":\"2014-12-20T21:17:50.321000Z\",\"url\":\"https://swapi.dev/api/people/8/\"},{\"name\":\"Biggs Darklighter\",\"height\":\"183\",\"mass\":\"84\",\"hair_color\":\"black\",\"skin_color\":\"light\",\"eye_color\":\"brown\",\"birth_year\":\"24BBY\",\"gender\":\"male\",\"homeworld\":\"https://swapi.dev/api/planets/1/\",\"films\":[\"https://swapi.dev/api/films/1/\"],\"species\":[],\"vehicles\":[],\"starships\":[\"https://swapi.dev/api/starships/12/\"],\"created\":\"2014-12-10T15:59:50.509000Z\",\"edited\":\"2014-12-20T21:17:50.323000Z\",\"url\":\"https://swapi.dev/api/people/9/\"},{\"name\":\"Obi-Wan Kenobi\",\"height\":\"182\",\"mass\":\"77\",\"hair_color\":\"auburn, white\",\"skin_color\":\"fair\",\"eye_color\":\"blue-gray\",\"birth_year\":\"57BBY\",\"gender\":\"male\",\"homeworld\":\"https://swapi.dev/api/planets/20/\",\"films\":[\"https://swapi.dev/api/films/1/\",\"https://swapi.dev/api/films/2/\",\"https://swapi.dev/api/films/3/\",\"https://swapi.dev/api/films/4/\",\"https://swapi.dev/api/films/5/\",\"https://swapi.dev/api/films/6/\"],\"species\":[],\"vehicles\":[\"https://swapi.dev/api/vehicles/38/\"],\"starships\":[\"https://swapi.dev/api/starships/48/\",\"https://swapi.dev/api/starships/59/\",\"https://swapi.dev/api/starships/64/\",\"https://swapi.dev/api/starships/65/\",\"https://swapi.dev/api/starships/74/\"],\"created\":\"2014-12-10T16:16:29.192000Z\",\"edited\":\"2014-12-20T21:17:50.325000Z\",\"url\":\"https://swapi.dev/api/people/10/\"}]}'\n"
     ]
    }
   ],
   "source": [
    "# Store response using \"content\" attribute\n",
    "response_content = response_data.content\n",
    "print(response_content)\n"
   ]
  },
  {
   "cell_type": "markdown",
   "metadata": {},
   "source": [
    "### Convert output to JSON"
   ]
  },
  {
   "cell_type": "code",
   "execution_count": 6,
   "metadata": {},
   "outputs": [],
   "source": [
    "# Format data as JSON\n",
    "data = json.loads(response_content)\n"
   ]
  },
  {
   "cell_type": "markdown",
   "metadata": {},
   "source": [
    "### Format data with `json.dumps`"
   ]
  },
  {
   "cell_type": "code",
   "execution_count": 7,
   "metadata": {},
   "outputs": [
    {
     "name": "stdout",
     "output_type": "stream",
     "text": [
      "{\n",
      "    \"count\": 82,\n",
      "    \"next\": \"https://swapi.dev/api/people/?page=2\",\n",
      "    \"previous\": null,\n",
      "    \"results\": [\n",
      "        {\n",
      "            \"name\": \"Luke Skywalker\",\n",
      "            \"height\": \"172\",\n",
      "            \"mass\": \"77\",\n",
      "            \"hair_color\": \"blond\",\n",
      "            \"skin_color\": \"fair\",\n",
      "            \"eye_color\": \"blue\",\n",
      "            \"birth_year\": \"19BBY\",\n",
      "            \"gender\": \"male\",\n",
      "            \"homeworld\": \"https://swapi.dev/api/planets/1/\",\n",
      "            \"films\": [\n",
      "                \"https://swapi.dev/api/films/1/\",\n",
      "                \"https://swapi.dev/api/films/2/\",\n",
      "                \"https://swapi.dev/api/films/3/\",\n",
      "                \"https://swapi.dev/api/films/6/\"\n",
      "            ],\n",
      "            \"species\": [],\n",
      "            \"vehicles\": [\n",
      "                \"https://swapi.dev/api/vehicles/14/\",\n",
      "                \"https://swapi.dev/api/vehicles/30/\"\n",
      "            ],\n",
      "            \"starships\": [\n",
      "                \"https://swapi.dev/api/starships/12/\",\n",
      "                \"https://swapi.dev/api/starships/22/\"\n",
      "            ],\n",
      "            \"created\": \"2014-12-09T13:50:51.644000Z\",\n",
      "            \"edited\": \"2014-12-20T21:17:56.891000Z\",\n",
      "            \"url\": \"https://swapi.dev/api/people/1/\"\n",
      "        },\n",
      "        {\n",
      "            \"name\": \"C-3PO\",\n",
      "            \"height\": \"167\",\n",
      "            \"mass\": \"75\",\n",
      "            \"hair_color\": \"n/a\",\n",
      "            \"skin_color\": \"gold\",\n",
      "            \"eye_color\": \"yellow\",\n",
      "            \"birth_year\": \"112BBY\",\n",
      "            \"gender\": \"n/a\",\n",
      "            \"homeworld\": \"https://swapi.dev/api/planets/1/\",\n",
      "            \"films\": [\n",
      "                \"https://swapi.dev/api/films/1/\",\n",
      "                \"https://swapi.dev/api/films/2/\",\n",
      "                \"https://swapi.dev/api/films/3/\",\n",
      "                \"https://swapi.dev/api/films/4/\",\n",
      "                \"https://swapi.dev/api/films/5/\",\n",
      "                \"https://swapi.dev/api/films/6/\"\n",
      "            ],\n",
      "            \"species\": [\n",
      "                \"https://swapi.dev/api/species/2/\"\n",
      "            ],\n",
      "            \"vehicles\": [],\n",
      "            \"starships\": [],\n",
      "            \"created\": \"2014-12-10T15:10:51.357000Z\",\n",
      "            \"edited\": \"2014-12-20T21:17:50.309000Z\",\n",
      "            \"url\": \"https://swapi.dev/api/people/2/\"\n",
      "        },\n",
      "        {\n",
      "            \"name\": \"R2-D2\",\n",
      "            \"height\": \"96\",\n",
      "            \"mass\": \"32\",\n",
      "            \"hair_color\": \"n/a\",\n",
      "            \"skin_color\": \"white, blue\",\n",
      "            \"eye_color\": \"red\",\n",
      "            \"birth_year\": \"33BBY\",\n",
      "            \"gender\": \"n/a\",\n",
      "            \"homeworld\": \"https://swapi.dev/api/planets/8/\",\n",
      "            \"films\": [\n",
      "                \"https://swapi.dev/api/films/1/\",\n",
      "                \"https://swapi.dev/api/films/2/\",\n",
      "                \"https://swapi.dev/api/films/3/\",\n",
      "                \"https://swapi.dev/api/films/4/\",\n",
      "                \"https://swapi.dev/api/films/5/\",\n",
      "                \"https://swapi.dev/api/films/6/\"\n",
      "            ],\n",
      "            \"species\": [\n",
      "                \"https://swapi.dev/api/species/2/\"\n",
      "            ],\n",
      "            \"vehicles\": [],\n",
      "            \"starships\": [],\n",
      "            \"created\": \"2014-12-10T15:11:50.376000Z\",\n",
      "            \"edited\": \"2014-12-20T21:17:50.311000Z\",\n",
      "            \"url\": \"https://swapi.dev/api/people/3/\"\n",
      "        },\n",
      "        {\n",
      "            \"name\": \"Darth Vader\",\n",
      "            \"height\": \"202\",\n",
      "            \"mass\": \"136\",\n",
      "            \"hair_color\": \"none\",\n",
      "            \"skin_color\": \"white\",\n",
      "            \"eye_color\": \"yellow\",\n",
      "            \"birth_year\": \"41.9BBY\",\n",
      "            \"gender\": \"male\",\n",
      "            \"homeworld\": \"https://swapi.dev/api/planets/1/\",\n",
      "            \"films\": [\n",
      "                \"https://swapi.dev/api/films/1/\",\n",
      "                \"https://swapi.dev/api/films/2/\",\n",
      "                \"https://swapi.dev/api/films/3/\",\n",
      "                \"https://swapi.dev/api/films/6/\"\n",
      "            ],\n",
      "            \"species\": [],\n",
      "            \"vehicles\": [],\n",
      "            \"starships\": [\n",
      "                \"https://swapi.dev/api/starships/13/\"\n",
      "            ],\n",
      "            \"created\": \"2014-12-10T15:18:20.704000Z\",\n",
      "            \"edited\": \"2014-12-20T21:17:50.313000Z\",\n",
      "            \"url\": \"https://swapi.dev/api/people/4/\"\n",
      "        },\n",
      "        {\n",
      "            \"name\": \"Leia Organa\",\n",
      "            \"height\": \"150\",\n",
      "            \"mass\": \"49\",\n",
      "            \"hair_color\": \"brown\",\n",
      "            \"skin_color\": \"light\",\n",
      "            \"eye_color\": \"brown\",\n",
      "            \"birth_year\": \"19BBY\",\n",
      "            \"gender\": \"female\",\n",
      "            \"homeworld\": \"https://swapi.dev/api/planets/2/\",\n",
      "            \"films\": [\n",
      "                \"https://swapi.dev/api/films/1/\",\n",
      "                \"https://swapi.dev/api/films/2/\",\n",
      "                \"https://swapi.dev/api/films/3/\",\n",
      "                \"https://swapi.dev/api/films/6/\"\n",
      "            ],\n",
      "            \"species\": [],\n",
      "            \"vehicles\": [\n",
      "                \"https://swapi.dev/api/vehicles/30/\"\n",
      "            ],\n",
      "            \"starships\": [],\n",
      "            \"created\": \"2014-12-10T15:20:09.791000Z\",\n",
      "            \"edited\": \"2014-12-20T21:17:50.315000Z\",\n",
      "            \"url\": \"https://swapi.dev/api/people/5/\"\n",
      "        },\n",
      "        {\n",
      "            \"name\": \"Owen Lars\",\n",
      "            \"height\": \"178\",\n",
      "            \"mass\": \"120\",\n",
      "            \"hair_color\": \"brown, grey\",\n",
      "            \"skin_color\": \"light\",\n",
      "            \"eye_color\": \"blue\",\n",
      "            \"birth_year\": \"52BBY\",\n",
      "            \"gender\": \"male\",\n",
      "            \"homeworld\": \"https://swapi.dev/api/planets/1/\",\n",
      "            \"films\": [\n",
      "                \"https://swapi.dev/api/films/1/\",\n",
      "                \"https://swapi.dev/api/films/5/\",\n",
      "                \"https://swapi.dev/api/films/6/\"\n",
      "            ],\n",
      "            \"species\": [],\n",
      "            \"vehicles\": [],\n",
      "            \"starships\": [],\n",
      "            \"created\": \"2014-12-10T15:52:14.024000Z\",\n",
      "            \"edited\": \"2014-12-20T21:17:50.317000Z\",\n",
      "            \"url\": \"https://swapi.dev/api/people/6/\"\n",
      "        },\n",
      "        {\n",
      "            \"name\": \"Beru Whitesun lars\",\n",
      "            \"height\": \"165\",\n",
      "            \"mass\": \"75\",\n",
      "            \"hair_color\": \"brown\",\n",
      "            \"skin_color\": \"light\",\n",
      "            \"eye_color\": \"blue\",\n",
      "            \"birth_year\": \"47BBY\",\n",
      "            \"gender\": \"female\",\n",
      "            \"homeworld\": \"https://swapi.dev/api/planets/1/\",\n",
      "            \"films\": [\n",
      "                \"https://swapi.dev/api/films/1/\",\n",
      "                \"https://swapi.dev/api/films/5/\",\n",
      "                \"https://swapi.dev/api/films/6/\"\n",
      "            ],\n",
      "            \"species\": [],\n",
      "            \"vehicles\": [],\n",
      "            \"starships\": [],\n",
      "            \"created\": \"2014-12-10T15:53:41.121000Z\",\n",
      "            \"edited\": \"2014-12-20T21:17:50.319000Z\",\n",
      "            \"url\": \"https://swapi.dev/api/people/7/\"\n",
      "        },\n",
      "        {\n",
      "            \"name\": \"R5-D4\",\n",
      "            \"height\": \"97\",\n",
      "            \"mass\": \"32\",\n",
      "            \"hair_color\": \"n/a\",\n",
      "            \"skin_color\": \"white, red\",\n",
      "            \"eye_color\": \"red\",\n",
      "            \"birth_year\": \"unknown\",\n",
      "            \"gender\": \"n/a\",\n",
      "            \"homeworld\": \"https://swapi.dev/api/planets/1/\",\n",
      "            \"films\": [\n",
      "                \"https://swapi.dev/api/films/1/\"\n",
      "            ],\n",
      "            \"species\": [\n",
      "                \"https://swapi.dev/api/species/2/\"\n",
      "            ],\n",
      "            \"vehicles\": [],\n",
      "            \"starships\": [],\n",
      "            \"created\": \"2014-12-10T15:57:50.959000Z\",\n",
      "            \"edited\": \"2014-12-20T21:17:50.321000Z\",\n",
      "            \"url\": \"https://swapi.dev/api/people/8/\"\n",
      "        },\n",
      "        {\n",
      "            \"name\": \"Biggs Darklighter\",\n",
      "            \"height\": \"183\",\n",
      "            \"mass\": \"84\",\n",
      "            \"hair_color\": \"black\",\n",
      "            \"skin_color\": \"light\",\n",
      "            \"eye_color\": \"brown\",\n",
      "            \"birth_year\": \"24BBY\",\n",
      "            \"gender\": \"male\",\n",
      "            \"homeworld\": \"https://swapi.dev/api/planets/1/\",\n",
      "            \"films\": [\n",
      "                \"https://swapi.dev/api/films/1/\"\n",
      "            ],\n",
      "            \"species\": [],\n",
      "            \"vehicles\": [],\n",
      "            \"starships\": [\n",
      "                \"https://swapi.dev/api/starships/12/\"\n",
      "            ],\n",
      "            \"created\": \"2014-12-10T15:59:50.509000Z\",\n",
      "            \"edited\": \"2014-12-20T21:17:50.323000Z\",\n",
      "            \"url\": \"https://swapi.dev/api/people/9/\"\n",
      "        },\n",
      "        {\n",
      "            \"name\": \"Obi-Wan Kenobi\",\n",
      "            \"height\": \"182\",\n",
      "            \"mass\": \"77\",\n",
      "            \"hair_color\": \"auburn, white\",\n",
      "            \"skin_color\": \"fair\",\n",
      "            \"eye_color\": \"blue-gray\",\n",
      "            \"birth_year\": \"57BBY\",\n",
      "            \"gender\": \"male\",\n",
      "            \"homeworld\": \"https://swapi.dev/api/planets/20/\",\n",
      "            \"films\": [\n",
      "                \"https://swapi.dev/api/films/1/\",\n",
      "                \"https://swapi.dev/api/films/2/\",\n",
      "                \"https://swapi.dev/api/films/3/\",\n",
      "                \"https://swapi.dev/api/films/4/\",\n",
      "                \"https://swapi.dev/api/films/5/\",\n",
      "                \"https://swapi.dev/api/films/6/\"\n",
      "            ],\n",
      "            \"species\": [],\n",
      "            \"vehicles\": [\n",
      "                \"https://swapi.dev/api/vehicles/38/\"\n",
      "            ],\n",
      "            \"starships\": [\n",
      "                \"https://swapi.dev/api/starships/48/\",\n",
      "                \"https://swapi.dev/api/starships/59/\",\n",
      "                \"https://swapi.dev/api/starships/64/\",\n",
      "                \"https://swapi.dev/api/starships/65/\",\n",
      "                \"https://swapi.dev/api/starships/74/\"\n",
      "            ],\n",
      "            \"created\": \"2014-12-10T16:16:29.192000Z\",\n",
      "            \"edited\": \"2014-12-20T21:17:50.325000Z\",\n",
      "            \"url\": \"https://swapi.dev/api/people/10/\"\n",
      "        }\n",
      "    ]\n",
      "}\n"
     ]
    }
   ],
   "source": [
    "# Use json.dumps with argument indent=4 to format data\n",
    "print(json.dumps(data, indent=4))\n"
   ]
  },
  {
   "cell_type": "markdown",
   "metadata": {},
   "source": [
    "### Select value and store as variable"
   ]
  },
  {
   "cell_type": "code",
   "execution_count": 10,
   "metadata": {},
   "outputs": [],
   "source": [
    "# Select two values\n",
    "first_character_name = data['results'][0]['name']\n",
    "first_character_birth_year = data['results'][0]['birth_year']\n",
    "\n"
   ]
  },
  {
   "cell_type": "code",
   "execution_count": 11,
   "metadata": {},
   "outputs": [
    {
     "name": "stdout",
     "output_type": "stream",
     "text": [
      "First Character Name: Luke Skywalker\n",
      "First Character Birth Year: 19BBY\n"
     ]
    }
   ],
   "source": [
    "# Print selected values\n",
    "print(\"First Character Name:\", first_character_name)\n",
    "print(\"First Character Birth Year:\", first_character_birth_year)\n"
   ]
  },
  {
   "cell_type": "code",
   "execution_count": null,
   "metadata": {},
   "outputs": [],
   "source": []
  }
 ],
 "metadata": {
  "kernelspec": {
   "display_name": "Python 3 (ipykernel)",
   "language": "python",
   "name": "python3"
  },
  "language_info": {
   "codemirror_mode": {
    "name": "ipython",
    "version": 3
   },
   "file_extension": ".py",
   "mimetype": "text/x-python",
   "name": "python",
   "nbconvert_exporter": "python",
   "pygments_lexer": "ipython3",
   "version": "3.10.13"
  },
  "nteract": {
   "version": "0.28.0"
  }
 },
 "nbformat": 4,
 "nbformat_minor": 4
}
