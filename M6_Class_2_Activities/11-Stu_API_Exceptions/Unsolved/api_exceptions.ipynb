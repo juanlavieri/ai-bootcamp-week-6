{
 "cells": [
  {
   "cell_type": "code",
   "execution_count": 1,
   "metadata": {},
   "outputs": [],
   "source": [
    "# Dependencies\n",
    "import requests\n",
    "import pandas as pd"
   ]
  },
  {
   "cell_type": "code",
   "execution_count": 2,
   "metadata": {},
   "outputs": [
    {
     "name": "stdout",
     "output_type": "stream",
     "text": [
      "Character 'Godzilla' not found.\n",
      "Character 'Frodo' not found.\n",
      "Character 'Iron Man' not found.\n",
      "Character 'Jon Snow' not found.\n"
     ]
    }
   ],
   "source": [
    "# List of characters\n",
    "search_characters = ['R2-D2', 'Darth Vader', 'Godzilla', 'Luke Skywalker', 'Frodo',\n",
    "                     'Boba Fett', 'Iron Man', 'Jon Snow', 'Han Solo']\n",
    "\n",
    "# Set URL for API\n",
    "url = 'https://swapi.dev/api/people/?search='\n",
    "\n",
    "# Set empty lists to hold characters height and mass\n",
    "height = []\n",
    "mass = []\n",
    "\n",
    "\n",
    "# Loop through each character\n",
    "for character in search_characters:\n",
    "\n",
    "    \n",
    "    # Create search query, make request and store in JSON\n",
    "    query_url = url + character\n",
    "\n",
    "    \n",
    "    # Try to grab the height and mass of characters if they are available in the Star Wars API\n",
    "    try:\n",
    "        response = requests.get(query_url).json()\n",
    "        height.append(response['results'][0]['height'])\n",
    "        mass.append(response['results'][0]['mass'])\n",
    "\n",
    "\n",
    "        \n",
    "    # Handle exceptions for a character that is not available in the Star Wars API\n",
    "    except:\n",
    "        print(f\"Character '{character}' not found.\")\n",
    "\n"
   ]
  },
  {
   "cell_type": "code",
   "execution_count": 9,
   "metadata": {},
   "outputs": [
    {
     "name": "stdout",
     "output_type": "stream",
     "text": [
      "Character 'Godzilla' not found.\n",
      "Character 'Frodo' not found.\n",
      "Character 'Iron Man' not found.\n",
      "Character 'Jon Snow' not found.\n",
      "             Name Height  Mass\n",
      "0           R2-D2     96    32\n",
      "1     Darth Vader    202   136\n",
      "2  Luke Skywalker    172    77\n",
      "3       Boba Fett    183  78.2\n",
      "4        Han Solo    180    80\n"
     ]
    }
   ],
   "source": [
    "# Create DataFrame\n",
    "# Lists to store character data\n",
    "names = []\n",
    "height = []\n",
    "mass = []\n",
    "\n",
    "# Loop through each character\n",
    "for character in search_characters:\n",
    "    # Create search query and make request\n",
    "    query_url = url + character\n",
    "\n",
    "    # Try to grab the height and mass of characters if they are available in the Star Wars API\n",
    "    try:\n",
    "        response = requests.get(query_url).json()\n",
    "        if response['count'] > 0:\n",
    "            names.append(character)\n",
    "            height.append(response['results'][0]['height'])\n",
    "            mass.append(response['results'][0]['mass'])\n",
    "        else:\n",
    "            print(f\"Character '{character}' not found.\")\n",
    "    except Exception as e:\n",
    "        print(f\"Error occurred while processing character '{character}': {e}\")\n",
    "\n",
    "# Create DataFrame\n",
    "character_df = pd.DataFrame({\n",
    "    'Name': names,\n",
    "    'Height': height,\n",
    "    'Mass': mass\n",
    "})\n",
    "\n",
    "# Display the DataFrame\n",
    "print(character_df)"
   ]
  },
  {
   "cell_type": "code",
   "execution_count": null,
   "metadata": {},
   "outputs": [],
   "source": []
  }
 ],
 "metadata": {
  "kernelspec": {
   "display_name": "Python 3 (ipykernel)",
   "language": "python",
   "name": "python3"
  },
  "language_info": {
   "codemirror_mode": {
    "name": "ipython",
    "version": 3
   },
   "file_extension": ".py",
   "mimetype": "text/x-python",
   "name": "python",
   "nbconvert_exporter": "python",
   "pygments_lexer": "ipython3",
   "version": "3.10.11"
  },
  "latex_envs": {
   "LaTeX_envs_menu_present": true,
   "autoclose": false,
   "autocomplete": true,
   "bibliofile": "biblio.bib",
   "cite_by": "apalike",
   "current_citInitial": 1,
   "eqLabelWithNumbers": true,
   "eqNumInitial": 1,
   "hotkeys": {
    "equation": "Ctrl-E",
    "itemize": "Ctrl-I"
   },
   "labels_anchors": false,
   "latex_user_defs": false,
   "report_style_numbering": false,
   "user_envs_cfg": false
  }
 },
 "nbformat": 4,
 "nbformat_minor": 2
}
